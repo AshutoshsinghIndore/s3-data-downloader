{
 "cells": [
  {
   "cell_type": "code",
   "execution_count": 5,
   "id": "4c0942ac-3f6e-4109-8b26-ec31d313d4ff",
   "metadata": {},
   "outputs": [
    {
     "name": "stdout",
     "output_type": "stream",
     "text": [
      "{'aws': {'region': 'us-east-1', 'access_key_id': '${AWS_ACCESS_KEY_ID}', 'secret_access_key': '${AWS_SECRET_ACCESS_KEY}'}, 's3': {'bucket_name': 'my-s3-bucket-name', 'prefix': 'raw-data/2025/', 'file_types': ['.csv', '.json', '.parquet'], 'recursive': True, 'sync_mode': True}, 'download': {'destination_folder': './downloads', 'overwrite_existing': False}, 'logging': {'level': 'INFO', 'log_to_file': True, 'log_file_path': 'logs/download.log'}}\n"
     ]
    }
   ],
   "source": [
    "import yaml\n",
    "\n",
    "def read_yaml_file(filepath):\n",
    "    with open(filepath, 'r') as file:\n",
    "        data = yaml.safe_load(file)\n",
    "    return data\n",
    "\n",
    "# Example usage:\n",
    "if __name__ == '__main__':\n",
    "    config = read_yaml_file(r'../config/default_config.yaml')\n",
    "    print(config)\n"
   ]
  },
  {
   "cell_type": "code",
   "execution_count": 4,
   "id": "31fe42a9-1953-49fd-8478-f9bcad89ac5d",
   "metadata": {},
   "outputs": [
    {
     "data": {
      "text/plain": [
       "['.git',\n",
       " '.gitignore',\n",
       " '.ipynb_checkpoints',\n",
       " 'config',\n",
       " 'LICENSE',\n",
       " 'notebooks',\n",
       " 'README.md',\n",
       " 'scripts',\n",
       " 'src']"
      ]
     },
     "execution_count": 4,
     "metadata": {},
     "output_type": "execute_result"
    }
   ],
   "source": [
    "config"
   ]
  },
  {
   "cell_type": "code",
   "execution_count": null,
   "id": "cdb7c51a-2377-41b7-8302-7531bb93b653",
   "metadata": {},
   "outputs": [],
   "source": []
  }
 ],
 "metadata": {
  "kernelspec": {
   "display_name": "Python 3 (ipykernel)",
   "language": "python",
   "name": "python3"
  },
  "language_info": {
   "codemirror_mode": {
    "name": "ipython",
    "version": 3
   },
   "file_extension": ".py",
   "mimetype": "text/x-python",
   "name": "python",
   "nbconvert_exporter": "python",
   "pygments_lexer": "ipython3",
   "version": "3.13.5"
  }
 },
 "nbformat": 4,
 "nbformat_minor": 5
}
