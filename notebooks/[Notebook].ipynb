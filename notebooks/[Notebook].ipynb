{
 "cells": [
  {
   "cell_type": "code",
   "execution_count": 1,
   "id": "59d2ec47-95a3-4283-9e1f-0836763e356a",
   "metadata": {},
   "outputs": [],
   "source": [
    "\n",
    "import boto3\n",
    "import os\n",
    "from dotenv import load_dotenv\n",
    "from botocore.exceptions import NoCredentialsError, ClientError\n",
    "import sys\n",
    "sys_path = r'../src'\n",
    "sys.path.append(sys_path)\n",
    "\n",
    "from s3_manager import S3_Downloader\n",
    "from config_loader import read_yaml_file\n",
    "import pandas as pd\n",
    "\n",
    "\n"
   ]
  },
  {
   "cell_type": "code",
   "execution_count": 2,
   "id": "9662c64a-d193-43dd-bad1-fcec098a5326",
   "metadata": {},
   "outputs": [],
   "source": [
    "# Load environment variables from .env file\n",
    "load_dotenv(r'../config/config.env')\n",
    "\n",
    "config = read_yaml_file(r'../config/default_config.yaml')"
   ]
  },
  {
   "cell_type": "code",
   "execution_count": 3,
   "id": "1336a2b0-51b3-4c9e-82c0-714a1a160750",
   "metadata": {},
   "outputs": [
    {
     "name": "stdout",
     "output_type": "stream",
     "text": [
      "✅ S3 client created successfully...!!\n"
     ]
    }
   ],
   "source": [
    "# Establishing connection with AWS\n",
    "client_obj = S3_Downloader.establish_connection_s3()        \n",
    "\n"
   ]
  },
  {
   "cell_type": "code",
   "execution_count": 4,
   "id": "2162718e-3acb-4a37-b2f7-0bc0ba3c941c",
   "metadata": {},
   "outputs": [
    {
     "name": "stdout",
     "output_type": "stream",
     "text": [
      "\t- Bucket Prefix Pairs: \n",
      "\t\t-  ('prod-completed', '2025-05-30/')\n",
      "\t\t-  ('prod-completed', '2025-03-01/')\n"
     ]
    },
    {
     "data": {
      "text/plain": [
       "[None, None]"
      ]
     },
     "execution_count": 4,
     "metadata": {},
     "output_type": "execute_result"
    }
   ],
   "source": [
    "# Preprocessing Bucket_Prefix Pair: yaml file\n",
    "bucket_prefix_pair = S3_Downloader.preprocess_bucket_prefix(\n",
    "    s3_client=client_obj, \n",
    "    bucket_prefix_map=config['s3']\n",
    ")\n",
    "print('\\Bucket Prefix Pairs: ')\n",
    "[print('\\t\\t- ', bucket_prefix) for bucket_prefix in bucket_prefix_pair]"
   ]
  },
  {
   "cell_type": "code",
   "execution_count": null,
   "id": "38a2d378-1b40-4884-b72a-e8774b6c3bde",
   "metadata": {},
   "outputs": [],
   "source": []
  },
  {
   "cell_type": "code",
   "execution_count": 5,
   "id": "9539aba8-acf2-40de-bfeb-a5ae038837c3",
   "metadata": {},
   "outputs": [],
   "source": [
    "# Creating Download Path\n",
    "os.makedirs(config['sync']['loc_download'], exist_ok=True)\n",
    "\n",
    "# Creating Obj list to be downloaded\n",
    "s3_obj_list = S3_Downloader.list_s3_objects(\n",
    "    client=client_obj, \n",
    "    bucket_prefixes=bucket_prefix_pair\n",
    ")"
   ]
  },
  {
   "cell_type": "code",
   "execution_count": null,
   "id": "45d91d0a-23bf-4e93-aa24-3dadab858fdd",
   "metadata": {},
   "outputs": [],
   "source": []
  },
  {
   "cell_type": "code",
   "execution_count": 6,
   "id": "6fb8b5db-f40a-4bf6-bc00-758c1855644e",
   "metadata": {},
   "outputs": [],
   "source": [
    "# Applying filters on S3 Obj List\n",
    "s3_obj_list = S3_Downloader.filter_obj_list(obj_list=s3_obj_list, \n",
    "                                              filter_criteria=config['filters'], \n",
    "                                              sync_mode=config['sync']['mode'], \n",
    "                                             loc_downloads=config['sync']['loc_download'])"
   ]
  },
  {
   "cell_type": "code",
   "execution_count": null,
   "id": "c55a7a1b-d848-4552-a65b-f06b152bc064",
   "metadata": {},
   "outputs": [],
   "source": [
    "# Execute Download \n",
    "S3_Downloader.execute_download(client_obj, s3_obj_list)"
   ]
  },
  {
   "cell_type": "code",
   "execution_count": null,
   "id": "f6e0f162-a28d-405e-a7f7-c7b2d35575c1",
   "metadata": {},
   "outputs": [],
   "source": [
    "# Save Parquet file\n",
    "file_utils.save_sync_state(df = s3_obj_list, output_dir = download_path)"
   ]
  }
 ],
 "metadata": {
  "kernelspec": {
   "display_name": "Python 3 (ipykernel)",
   "language": "python",
   "name": "python3"
  },
  "language_info": {
   "codemirror_mode": {
    "name": "ipython",
    "version": 3
   },
   "file_extension": ".py",
   "mimetype": "text/x-python",
   "name": "python",
   "nbconvert_exporter": "python",
   "pygments_lexer": "ipython3",
   "version": "3.12.4"
  },
  "widgets": {
   "application/vnd.jupyter.widget-state+json": {
    "state": {},
    "version_major": 2,
    "version_minor": 0
   }
  }
 },
 "nbformat": 4,
 "nbformat_minor": 5
}
