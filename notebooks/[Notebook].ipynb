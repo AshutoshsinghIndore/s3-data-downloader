{
 "cells": [
  {
   "cell_type": "code",
   "execution_count": 19,
   "id": "59d2ec47-95a3-4283-9e1f-0836763e356a",
   "metadata": {},
   "outputs": [],
   "source": [
    "import boto3\n",
    "import os\n",
    "from dotenv import load_dotenv\n",
    "from botocore.exceptions import NoCredentialsError, ClientError\n",
    "import sys\n",
    "sys_path = r'../src'\n",
    "sys.path.append(sys_path)\n",
    "\n",
    "from s3_manager import S3_Downloader\n",
    "from config_loader import read_yaml_file"
   ]
  },
  {
   "cell_type": "code",
   "execution_count": 28,
   "id": "9662c64a-d193-43dd-bad1-fcec098a5326",
   "metadata": {},
   "outputs": [],
   "source": [
    "# Load environment variables from .env file\n",
    "load_dotenv(r'../config/config.env')\n",
    "\n",
    "config = read_yaml_file(r'../config/default_config.yaml')"
   ]
  },
  {
   "cell_type": "code",
   "execution_count": 29,
   "id": "1336a2b0-51b3-4c9e-82c0-714a1a160750",
   "metadata": {},
   "outputs": [
    {
     "name": "stdout",
     "output_type": "stream",
     "text": [
      "✅ S3 client created successfully...!!\n"
     ]
    }
   ],
   "source": [
    "client_obj = S3_Downloader.establish_connection_s3()"
   ]
  },
  {
   "cell_type": "code",
   "execution_count": 27,
   "id": "9539aba8-acf2-40de-bfeb-a5ae038837c3",
   "metadata": {},
   "outputs": [
    {
     "data": {
      "text/plain": [
       "{'s3': {'prod-completed': ['2025-05-30/', '2025-05-29/']},\n",
       " 'sync': {'loc_download': './downloads', 'mode': 'incremental'},\n",
       " 'filters': {'include_extensions': ['.csv', '.xlsx'],\n",
       "  'exclude_files': ['skip_this_file.csv']},\n",
       " 'logging': {'enable': True, 'log_file': 's3_download.log'}}"
      ]
     },
     "execution_count": 27,
     "metadata": {},
     "output_type": "execute_result"
    }
   ],
   "source": [
    "config"
   ]
  },
  {
   "cell_type": "code",
   "execution_count": 30,
   "id": "c55a7a1b-d848-4552-a65b-f06b152bc064",
   "metadata": {},
   "outputs": [],
   "source": [
    "bucket_prefix_pair = S3_Downloader.preprocess_bucket_prefix(config['s3'])\n"
   ]
  },
  {
   "cell_type": "code",
   "execution_count": 31,
   "id": "b48128f5-3ee7-424f-85a8-00cf2db8f2ad",
   "metadata": {},
   "outputs": [],
   "source": [
    "def preprocess_bucket_prefix(s3_client: str, bucket_prefix_map: dict[str, list[str]]) -> list[tuple[str, str]]:\n",
    "    \"\"\"\n",
    "    Converts a dictionary of {bucket: [prefixes]} into a list of (bucket, prefix) pairs.\n",
    "    Checks if each bucket and prefix exists in S3.\n",
    "\n",
    "    Args:\n",
    "        bucket_prefix_map (Dict[str, List[str]]): A dictionary mapping bucket names to lists of prefixes.\n",
    "\n",
    "    Returns:\n",
    "        List[Tuple[str, str]]: A validated list of (bucket, prefix) tuples. \n",
    "                               If prefix list is empty, uses wildcard '*'.\n",
    "\n",
    "    Raises:\n",
    "        ClientError: If the bucket does not exist or access is denied.\n",
    "    \"\"\"\n",
    "    valid_bucket_prefixes = []\n",
    "\n",
    "    for bucket, prefixes in bucket_prefix_map.items():\n",
    "        try:\n",
    "            # Check if bucket exists\n",
    "            s3_client.head_bucket(Bucket=bucket)\n",
    "        except ClientError as e:\n",
    "            logger.error(f\"❌ Bucket '{bucket}' is not accessible: {e.response['Error']['Message']}\")\n",
    "            continue\n",
    "\n",
    "        if not prefixes:\n",
    "            valid_bucket_prefixes.append((bucket, '*'))\n",
    "            continue\n",
    "\n",
    "        for prefix in prefixes:\n",
    "            try:\n",
    "                # Check if prefix has at least one object\n",
    "                response = s3_client.list_objects_v2(Bucket=bucket, Prefix=prefix, MaxKeys=1)\n",
    "                if 'Contents' in response:\n",
    "                    valid_bucket_prefixes.append((bucket, prefix))\n",
    "                else:\n",
    "                    logger.warning(f\"⚠️ No objects found for prefix '{prefix}' in bucket '{bucket}'. Skipping.\")\n",
    "            except ClientError as e:\n",
    "                logger.error(f\"❌ Failed to validate prefix '{prefix}' in bucket '{bucket}': {e.response['Error']['Message']}\")\n",
    "\n",
    "    return valid_bucket_prefixes"
   ]
  },
  {
   "cell_type": "code",
   "execution_count": 32,
   "id": "c3e968cf-cff2-4a65-90a2-be3c9c06061b",
   "metadata": {},
   "outputs": [
    {
     "data": {
      "text/plain": [
       "[('prod-completed', '2025-05-30/'), ('prod-completed', '2025-03-01/')]"
      ]
     },
     "execution_count": 32,
     "metadata": {},
     "output_type": "execute_result"
    }
   ],
   "source": [
    "preprocess_bucket_prefix(client_obj, config['s3'])"
   ]
  },
  {
   "cell_type": "code",
   "execution_count": 3,
   "id": "ffaba23c-725c-4ce1-8b5d-358cd9471e21",
   "metadata": {},
   "outputs": [
    {
     "name": "stdout",
     "output_type": "stream",
     "text": [
      "✅ S3 client created successfully...!!\n"
     ]
    }
   ],
   "source": [
    "client_obj = S3_Downloader.establish_connection_s3()\n"
   ]
  },
  {
   "cell_type": "code",
   "execution_count": 4,
   "id": "a23b9c88-9150-45cf-b2f1-43a0b8924f22",
   "metadata": {},
   "outputs": [
    {
     "data": {
      "text/plain": [
       "<botocore.client.S3 at 0x2899d4e2870>"
      ]
     },
     "execution_count": 4,
     "metadata": {},
     "output_type": "execute_result"
    }
   ],
   "source": []
  }
 ],
 "metadata": {
  "kernelspec": {
   "display_name": "Python 3 (ipykernel)",
   "language": "python",
   "name": "python3"
  },
  "language_info": {
   "codemirror_mode": {
    "name": "ipython",
    "version": 3
   },
   "file_extension": ".py",
   "mimetype": "text/x-python",
   "name": "python",
   "nbconvert_exporter": "python",
   "pygments_lexer": "ipython3",
   "version": "3.12.4"
  },
  "widgets": {
   "application/vnd.jupyter.widget-state+json": {
    "state": {},
    "version_major": 2,
    "version_minor": 0
   }
  }
 },
 "nbformat": 4,
 "nbformat_minor": 5
}
